{
 "cells": [
  {
   "cell_type": "markdown",
   "metadata": {},
   "source": [
    "<center>\n",
    "\n",
    "# BCRP | 2025 Curso de Extensión de Economía Avanzada\n",
    "## \"High-Dimensional Econometrics\"\n",
    "\n",
    "</center>"
   ]
  },
  {
   "cell_type": "markdown",
   "metadata": {},
   "source": [
    "**Code:** Student's numerical code"
   ]
  },
  {
   "cell_type": "markdown",
   "metadata": {},
   "source": [
    "**<ins>Instructions</ins>**: This exam has two parts. Please answer _all_ questions in the space provided below each cell either in English or Español. Full marks are not only given for correct answers but for elegance, preciseness, and presentation. Please make sure your notebook runs without an error.\n",
    "\n",
    "**<ins>Note 1</ins>**: If you are seeking to earn my recommendation letter for future doctoral studies, you must score among the 2 _highest_ scores in the class.\n",
    "\n",
    "**<ins>Note 2</ins>**: Your notebook should be fully executed (and without error) before submission. Failure to do so, will mean a that all earned points will be multiplied by 0.9, i.e., a 10\\% penalty.\n",
    "\n",
    "**<ins>Note 3</ins>**: There will be a 10% penalty for each minute pass the deadline of 09:00 pm on January 12th, 2025."
   ]
  },
  {
   "cell_type": "markdown",
   "metadata": {},
   "source": [
    "<center>\n",
    "\n",
    "### Part I\n",
    "\n",
    "</center>"
   ]
  },
  {
   "cell_type": "markdown",
   "metadata": {},
   "source": [
    "#### Question 1"
   ]
  },
  {
   "cell_type": "markdown",
   "metadata": {},
   "source": [
    "(a) Part a"
   ]
  },
  {
   "cell_type": "markdown",
   "metadata": {},
   "source": [
    "_Answer_:"
   ]
  },
  {
   "cell_type": "markdown",
   "metadata": {},
   "source": [
    "#### Question 2"
   ]
  },
  {
   "cell_type": "markdown",
   "metadata": {},
   "source": [
    "This is question 2."
   ]
  },
  {
   "cell_type": "markdown",
   "metadata": {},
   "source": [
    "_Answer_: \n",
    "\n",
    "\n",
    "# Exercise 3\n",
    "\n",
    "### Case 1\n",
    "\n",
    "$$\n",
    "\\hat{\\beta}_2^{\\text{logit}} = \\arg \\max_{\\beta_1} \\ell^{\\text{logit}}(\\beta_1) = \\arg \\max_{\\beta} \\left( \\frac{1}{n} \\sum_{i=1}^{n} Z_{i}^{1'} \\beta \\right)\n",
    "$$\n",
    "\n",
    "### Case 2\n",
    "\n",
    "$$\n",
    "Z_i^{1} = \\frac{Z_i^2}{1000}\n",
    "$$\n",
    "\n",
    "### Maximization Condition\n",
    "\n",
    "$$\n",
    "\\hat{\\beta}_2^{\\text{logit}} = \\arg \\max_{\\beta_2} \\ell^{\\text{logit}}(\\beta_2) = \\arg \\max_{\\beta} \\left( \\frac{1}{n} \\sum_{i=1}^{n} \\log \\left( \\frac{Z_i^{2'} \\beta}{1000} \\right) \\right)\n",
    "$$\n",
    "\n",
    "### Conclusion\n",
    "\n",
    "$$\n",
    "\\frac{B_2}{1000} = B_1\n",
    "$$\n",
    "\n",
    "\n"
   ]
  },
  {
   "cell_type": "markdown",
   "metadata": {},
   "source": [
    "#### Question 3"
   ]
  },
  {
   "cell_type": "markdown",
   "metadata": {},
   "source": [
    "(a) Part a"
   ]
  },
  {
   "attachments": {},
   "cell_type": "markdown",
   "metadata": {},
   "source": [
    "_Answer_: \n",
    "\n",
    "# Exercise 4\n",
    "\n",
    "## **Part a: Prove that**\n",
    "We need to prove the following expression is true:\n",
    "$$\n",
    "\\frac{d}{dx} \\Delta(x) = \\Delta(x) \\left( 1 - \\Delta(x) \\right)\n",
    "$$\n",
    "\n",
    "### Expression:\n",
    "$$\n",
    "\\Delta(x) = \\left( 1 + \\exp(-x) \\right)^{-1}\n",
    "$$\n",
    "\n",
    "### Step-by-step Derivation:\n",
    "1. Start with the derivative:\n",
    "   $$\n",
    "   \\frac{d}{dx} \\left( 1 + \\exp(-x) \\right)^{-1} = -1 \\cdot \\left( 1 + \\exp(-x) \\right)^{-2} \\cdot \\left( -\\exp(-x) \\right)\n",
    "   $$\n",
    "\n",
    "2. Simplify the signs:\n",
    "   $$\n",
    "   = \\left( 1 + \\exp(-x) \\right)^{-2} \\cdot \\left( \\exp(-x) + 1 - 1 \\right)\n",
    "   $$\n",
    "\n",
    "3. Grouping the terms:\n",
    "   $$\n",
    "   = \\left( 1 + \\exp(-x) \\right)^{-2} \\cdot \\left( \\left( \\exp(-x) + 1 \\right) - 1 \\right)\n",
    "   $$\n",
    "\n",
    "4. Rewrite the expression:\n",
    "   $$\n",
    "   = \\left( 1 + \\exp(-x) \\right)^{-1} \\cdot \\left( \\left( 1 + \\exp(-x) \\right)^{-1} \\cdot \\left( \\exp(-x) + 1 \\right) - \\left( 1 + \\exp(-x) \\right)^{-1} \\right)\n",
    "   $$\n",
    "\n",
    "5. Expand the product:\n",
    "   $$\n",
    "   = \\left( 1 + \\exp(-x) \\right)^{-1} \\cdot \\left( 1 - \\left( 1 + \\exp(-x) \\right)^{-1} \\right)\n",
    "   $$\n",
    "\n",
    "### **Conclusion (Part a):**\n",
    "The resulting expression is:\n",
    "$$\n",
    "\\frac{d}{dx} \\Delta(x) = \\Delta(x) \\left( 1 - \\Delta(x) \\right)\n",
    "$$\n",
    "\n",
    "---\n",
    "\n",
    "## **Part b: Prove that**\n",
    "We need to prove:\n",
    "$$\n",
    "h_{\\text{logit}}(x) = \\frac{d}{dx} \\log(\\Delta(x)) = 1 - \\Delta(x)\n",
    "$$\n",
    "\n",
    "### Expression:\n",
    "We are working with:\n",
    "$$\n",
    "\\log \\left( \\Delta(x) \\right)\n",
    "$$\n",
    "\n",
    "### Step-by-step Derivation:\n",
    "1. Start with the derivative:\n",
    "   $$\n",
    "   \\frac{d}{dx} \\left( 1 + \\exp(-x) \\right)^{-1} = -1 \\cdot \\left( 1 + \\exp(-x) \\right)^{-2} \\cdot \\left( -\\exp(-x) \\right)\n",
    "   $$\n",
    "\n",
    "2. Simplify the signs:\n",
    "   $$\n",
    "   = \\left( 1 + \\exp(-x) \\right)^{-2} \\cdot \\left( \\exp(-x) + 1 - 1 \\right)\n",
    "   $$\n",
    "\n",
    "3. Grouping the terms:\n",
    "   $$\n",
    "   = \\left( 1 + \\exp(-x) \\right)^{-2} \\cdot \\left( \\left( \\exp(-x) + 1 \\right) - 1 \\right)\n",
    "   $$\n",
    "\n",
    "4. Rewrite the expression:\n",
    "   $$\n",
    "   = \\left( 1 + \\exp(-x) \\right)^{-1} \\cdot \\left( \\left( 1 + \\exp(-x) \\right)^{-1} \\cdot \\left( \\exp(-x) + 1 \\right) - \\left( 1 + \\exp(-x) \\right)^{-1} \\right)\n",
    "   $$\n",
    "\n",
    "5. Expand the product:\n",
    "   $$\n",
    "   = \\left( 1 + \\exp(-x) \\right)^{-1} \\cdot \\left( 1 - \\left( 1 + \\exp(-x) \\right)^{-1} \\right)\n",
    "   $$\n",
    "\n",
    "### **Conclusion (Part b):**\n",
    "The derivative simplifies to:\n",
    "$$\n",
    "h_{\\text{logit}}(x) = 1 - \\Delta(x)\n",
    "$$\n",
    "\n",
    "---\n",
    "\n",
    "# Exercise 4 (Part c)\n",
    "\n",
    "## **Show that**\n",
    "We need to show:\n",
    "$$\n",
    "H_{\\text{logit}}(x) = -\\frac{d^2}{dx^2} \\log(\\Delta(x)) = \\Delta(x) \\left( 1 - \\Delta(x) \\right)\n",
    "$$\n",
    "\n",
    "---\n",
    "\n",
    "## **Step-by-step Derivation**\n",
    "\n",
    "1. Take the second derivative of the logarithm:\n",
    "   $$\n",
    "   H_{\\text{logit}}(x) = -\\frac{d^2}{dx^2} \\log(\\Delta(x))\n",
    "   $$\n",
    "\n",
    "2. Differentiate the first derivative:\n",
    "   $$\n",
    "   -\\frac{d}{dx} \\left( 1 - \\Delta(x) \\right) = -\\left( -\\frac{d}{dx} \\Delta(x) \\right)\n",
    "   $$\n",
    "\n",
    "3. Substitute the expression for \\(\\frac{d}{dx} \\Delta(x)\\):\n",
    "   $$\n",
    "   -\\left( -\\Delta(x) \\left( 1 - \\Delta(x) \\right) \\right) = \\Delta(x) \\left( 1 - \\Delta(x) \\right)\n",
    "   $$\n",
    "\n",
    "---\n",
    "\n",
    "### **Conclusion(part c)**\n",
    "Thus:\n",
    "$$\n",
    "H_{\\text{logit}}(x) = -\\frac{d^2}{dx^2} \\log(\\Delta(x)) = \\Delta(x) \\left( 1 - \\Delta(x) \\right)\n",
    "$$\n",
    "\n",
    "# Exercise 4 (Part d)\n",
    "\n",
    "## **Show that**\n",
    "We need to show:\n",
    "$$\n",
    "|H_{\\text{logit}}(x)| \\leq 1\n",
    "$$\n",
    "\n",
    "---\n",
    "\n",
    "### **Step-by-step Derivation**\n",
    "\n",
    "1. Recall that:\n",
    "   $$\n",
    "   H_{\\text{logit}}(x) = \\Delta(x)(1 - \\Delta(x))\n",
    "   $$\n",
    "   where:\n",
    "   $$\n",
    "   \\Delta(x) = \\frac{1}{1 + \\exp(-x)}\n",
    "   $$\n",
    "\n",
    "2. Derivative of $ H_{\\text{logit}}(x) $:  \n",
    "   Apply the product rule:\n",
    "   $$\n",
    "   \\frac{d}{dx} H_{\\text{logit}}(x) = \\frac{\\exp(2x) - \\exp(x)}{(1 + \\exp(-x))^3}\n",
    "   $$\n",
    "\n",
    "3. **Sign analysis of the derivative**:\n",
    "   - For \\( x < 0 \\):\n",
    "     $$\n",
    "       \\frac{d}{dx} H_{\\text{logit}}(x)  > 0\n",
    "     $$\n",
    "     Therefore, $ H_{\\text{logit}}(x) $ is **increasing**.\n",
    "   - For \\( x > 0 \\):\n",
    "     $$\n",
    "       \\frac{d}{dx} H_{\\text{logit}}(x)  < 0\n",
    "     $$\n",
    "     Therefore, $ H_{\\text{logit}}(x)$ is **decreasing**.\n",
    "\n",
    "4. **Maximum value**:\n",
    "   At $ x = 0 $,  :\n",
    "   $$\n",
    "   H_{\\text{logit}}(x) = \\frac{1}{2} \\left( 1 - \\frac{1}{2} \\right) = \\frac{1}{4}\n",
    "   $$\n",
    "\n",
    "5. **Behavior near the limits**:\n",
    "   - As $ x \\to \\infty $:\n",
    "     $$\n",
    "     \\lim_{x \\to \\infty} H_{\\text{logit}}(x) = 0\n",
    "     $$\n",
    "   - As $ x \\to -\\infty $:\n",
    "     $$\n",
    "     \\lim_{x \\to -\\infty} H_{\\text{logit}}(x) = 0\n",
    "     $$\n",
    "\n",
    "---\n",
    "\n",
    "### **Conclusion**:\n",
    "The function $ H_{\\text{logit}}(x) $ reaches a maximum of $ \\frac{1}{4} $ at $ x = 0 $, and its absolute value is bounded:\n",
    "$$\n",
    "|H_{\\text{logit}}(x)| \\leq 1\n",
    "$$\n",
    "\n"
   ]
  },
  {
   "cell_type": "markdown",
   "metadata": {},
   "source": [
    "#### Question 4"
   ]
  },
  {
   "cell_type": "markdown",
   "metadata": {},
   "source": [
    "(a) Part a"
   ]
  },
  {
   "cell_type": "markdown",
   "metadata": {},
   "source": [
    "_Answer_: \n",
    "\n",
    "# Exercise 5\n",
    "\n",
    "## **Statement**\n",
    "For the normal distribution $ \\Phi(x) $, verify that:\n",
    "1. **Part (a)**:\n",
    "   $$\n",
    "   h_{\\text{probit}}(x) = \\frac{d}{dx} \\log \\Phi(x) = \\lambda(x)\n",
    "   $$\n",
    "   where:\n",
    "   $$\n",
    "   \\lambda(x) = \\frac{\\phi(x)}{\\Phi(x)}\n",
    "   $$\n",
    "   where $ \\phi(x) $ is the probability density function (PDF) of the normal distribution.\n",
    "\n",
    "2. **Part (b)**:\n",
    "   $$\n",
    "   H_{\\text{probit}}(x) = -\\frac{d^2}{dx^2} \\log \\Phi(x) = \\lambda(x) \\left( x + \\lambda(x) \\right)\n",
    "   $$\n",
    "\n",
    "---\n",
    "\n",
    "## **Solution**\n",
    "\n",
    "### **Part (a)**\n",
    "\n",
    "1. **Logarithm of the CDF $ \\Phi(x) $**:\n",
    "   We start by differentiating the logarithm:\n",
    "   $$\n",
    "   \\frac{d}{dx} \\log \\Phi(x) = \\frac{1}{\\Phi(x)} \\cdot \\frac{d}{dx} \\Phi(x)\n",
    "   $$\n",
    "\n",
    "2. **Substitute the derivative of $ \\Phi(x) $**:\n",
    "   The derivative of the cumulative distribution function (CDF) $ \\Phi(x) $ is the PDF $ \\phi(x) $:\n",
    "   $$\n",
    "   \\frac{d}{dx} \\Phi(x) = \\phi(x)\n",
    "   $$\n",
    "\n",
    "3. **Substitute into the expression**:\n",
    "   $$\n",
    "   \\frac{1}{\\Phi(x)} \\cdot \\phi(x) = \\frac{\\phi(x)}{\\Phi(x)} = \\lambda(x)\n",
    "   $$\n",
    "\n",
    "### **Conclusion (Part a)**:\n",
    "We have shown that:\n",
    "$$\n",
    "h_{\\text{probit}}(x) = \\lambda(x)\n",
    "$$\n",
    "\n",
    "---\n",
    "\n",
    "### **Part (b)**\n",
    "\n",
    "1. **Second derivative of the logarithm**:\n",
    "   We differentiate the expression for $ h_{\\text{probit}}(x) $:\n",
    "   $$\n",
    "   H_{\\text{probit}}(x) = -\\frac{d}{dx} \\lambda(x)\n",
    "   $$\n",
    "\n",
    "2. **Expression for $ \\lambda(x) $**:\n",
    "   Recall that:\n",
    "   $$\n",
    "   \\lambda(x) = \\frac{\\phi(x)}{\\Phi(x)}\n",
    "   $$\n",
    "\n",
    "3. **Differentiate using the quotient rule**:\n",
    "   Apply the quotient rule:\n",
    "   $$\n",
    "   \\frac{d}{dx} \\lambda(x) = \\frac{\\Phi(x) \\cdot \\phi'(x) - \\phi(x) \\cdot \\Phi'(x}{\\Phi(x)^2}\n",
    "   $$\n",
    "\n",
    "4. **Substitute $ \\phi'(x) = -x \\phi(x) $**:\n",
    "   The derivative of the normal PDF $ \\phi(x) $ is:\n",
    "   $$\n",
    "   \\phi'(x) = -x \\phi(x)\n",
    "   $$\n",
    "\n",
    "   $$\n",
    "   \\Phi'(x) = \\phi(x)\n",
    "   $$\n",
    "   Substituting:\n",
    "   $$\n",
    "   \\frac{-x \\phi(x) \\cdot \\Phi(x) - \\phi(x)^2}{\\Phi(x)^2}\n",
    "   $$\n",
    "   $$\n",
    "   -\\frac{\\phi(x)}{\\Phi(x)} ( x + \\frac{\\phi(x)}{\\Phi(x)})\n",
    "   $$\n",
    "6. **Factor out $ \\lambda(x) $**:\n",
    "   \n",
    "   $$\n",
    "   -\\frac{d}{dx} \\lambda(x) = \\lambda(x) \\left( x + \\lambda(x) \\right)\n",
    "   $$\n",
    "\n",
    "### **Conclusion (Part b)**:\n",
    "We have shown that:\n",
    "$$\n",
    "H_{\\text{probit}}(x) = \\lambda(x) \\left( x + \\lambda(x) \\right)\n",
    "$$\n",
    "\n",
    "---\n",
    "\n",
    "## **Notas**\n",
    "- $ \\phi(x) $ is the PDF of the standard normal distribution:\n",
    "  $$\n",
    "  \\phi(x) = \\frac{1}{\\sqrt{2\\pi}} \\exp\\left( -\\frac{x^2}{2} \\right)\n",
    "  $$\n",
    "- $ \\Phi(x) $ is the cumulative distribution function (CDF).\n",
    "- In the second derivative, the quotient rule is used along with the derivative of the normal density $ \\phi(x) $.\n",
    "\n"
   ]
  },
  {
   "cell_type": "markdown",
   "metadata": {},
   "source": [
    "#### Question 5"
   ]
  },
  {
   "cell_type": "markdown",
   "metadata": {},
   "source": [
    "_Answer_:"
   ]
  },
  {
   "cell_type": "markdown",
   "metadata": {},
   "source": [
    "#### Question 6"
   ]
  },
  {
   "cell_type": "markdown",
   "metadata": {},
   "source": [
    "(a) Part a goes here"
   ]
  },
  {
   "cell_type": "markdown",
   "metadata": {},
   "source": [
    "_Answer_:"
   ]
  },
  {
   "cell_type": "markdown",
   "metadata": {},
   "source": [
    "#### Question 7"
   ]
  },
  {
   "cell_type": "markdown",
   "metadata": {},
   "source": [
    "_Answer_:"
   ]
  },
  {
   "cell_type": "markdown",
   "metadata": {},
   "source": [
    "<center>\n",
    "\n",
    "### Part II\n",
    "\n",
    "</center>"
   ]
  },
  {
   "cell_type": "code",
   "execution_count": null,
   "metadata": {},
   "outputs": [],
   "source": [
    "%%capture\n",
    "import stata_setup, os\n",
    "if os.name == 'nt':\n",
    "    stata_setup.config('C:/Program Files/Stata17/','mp')\n",
    "else:\n",
    "    stata_setup.config('/usr/local/stata17','mp')"
   ]
  },
  {
   "cell_type": "markdown",
   "metadata": {
    "jp-MarkdownHeadingCollapsed": true
   },
   "source": [
    "#### Question 8"
   ]
  },
  {
   "cell_type": "markdown",
   "metadata": {},
   "source": [
    "(a) Question 8 text goes here asking for code and then a written answer."
   ]
  },
  {
   "cell_type": "code",
   "execution_count": null,
   "metadata": {},
   "outputs": [],
   "source": [
    "# Your succint and elegant Stata or Python code goes here"
   ]
  },
  {
   "cell_type": "markdown",
   "metadata": {},
   "source": [
    "_Answer_:"
   ]
  },
  {
   "cell_type": "markdown",
   "metadata": {
    "jp-MarkdownHeadingCollapsed": true
   },
   "source": [
    "#### Question 9"
   ]
  },
  {
   "cell_type": "markdown",
   "metadata": {},
   "source": [
    "(a) Question 9 text goes here asking for code and then a written answer."
   ]
  },
  {
   "cell_type": "code",
   "execution_count": null,
   "metadata": {},
   "outputs": [],
   "source": [
    "# Your succint and elegant Stata or Python code goes here"
   ]
  },
  {
   "cell_type": "markdown",
   "metadata": {},
   "source": [
    "_Answer_:"
   ]
  },
  {
   "cell_type": "markdown",
   "metadata": {
    "jp-MarkdownHeadingCollapsed": true
   },
   "source": [
    "#### Question 10"
   ]
  },
  {
   "cell_type": "markdown",
   "metadata": {},
   "source": [
    "(a) Question 10 text goes here asking for code and then a written answer."
   ]
  },
  {
   "cell_type": "code",
   "execution_count": null,
   "metadata": {},
   "outputs": [],
   "source": [
    "# Your succint and elegant Stata or Python code goes here"
   ]
  }
 ],
 "metadata": {
  "kernelspec": {
   "display_name": "Python 3 (ipykernel)",
   "language": "python",
   "name": "python3"
  },
  "language_info": {
   "codemirror_mode": {
    "name": "ipython",
    "version": 3
   },
   "file_extension": ".py",
   "mimetype": "text/x-python",
   "name": "python",
   "nbconvert_exporter": "python",
   "pygments_lexer": "ipython3",
   "version": "3.11.0"
  }
 },
 "nbformat": 4,
 "nbformat_minor": 4
}
