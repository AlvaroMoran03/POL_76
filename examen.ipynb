{
 "cells": [
  {
   "cell_type": "markdown",
   "metadata": {},
   "source": [
    "<center>\n",
    "\n",
    "# BCRP | 2025 Curso de Extensión de Economía Avanzada\n",
    "## \"High-Dimensional Econometrics\"\n",
    "\n",
    "</center>"
   ]
  },
  {
   "cell_type": "markdown",
   "metadata": {},
   "source": [
    "**Code:** Student's numerical code"
   ]
  },
  {
   "cell_type": "markdown",
   "metadata": {},
   "source": [
    "**<ins>Instructions</ins>**: This exam has two parts. Please answer _all_ questions in the space provided below each cell either in English or Español. Full marks are not only given for correct answers but for elegance, preciseness, and presentation. Please make sure your notebook runs without an error.\n",
    "\n",
    "**<ins>Note 1</ins>**: If you are seeking to earn my recommendation letter for future doctoral studies, you must score among the 2 _highest_ scores in the class.\n",
    "\n",
    "**<ins>Note 2</ins>**: Your notebook should be fully executed (and without error) before submission. Failure to do so, will mean a that all earned points will be multiplied by 0.9, i.e., a 10\\% penalty.\n",
    "\n",
    "**<ins>Note 3</ins>**: There will be a 10% penalty for each minute pass the deadline of 09:00 pm on January 12th, 2025."
   ]
  },
  {
   "cell_type": "markdown",
   "metadata": {},
   "source": [
    "<center>\n",
    "\n",
    "### Part I\n",
    "\n",
    "</center>"
   ]
  },
  {
   "cell_type": "markdown",
   "metadata": {},
   "source": [
    "#### Question 1"
   ]
  },
  {
   "cell_type": "markdown",
   "metadata": {},
   "source": [
    "For the logistic distribution $\\Lambda(x)=(1+\\exp (-x))^{-1}$ verify that"
   ]
  },
  {
   "cell_type": "markdown",
   "metadata": {},
   "source": [
    " (a) [1 points] $\\frac{d}{d x} \\Lambda(x)=\\Lambda(x)(1-\\Lambda(x))$."
   ]
  },
  {
   "cell_type": "markdown",
   "metadata": {},
   "source": [
    "_Answer_:"
   ]
  },
  {
   "cell_type": "markdown",
   "metadata": {},
   "source": [
    "(b) [1 points] $h_{\\operatorname{logit}}(x)=\\frac{d}{d x} \\log \\Lambda(x)=1-\\Lambda(x)$."
   ]
  },
  {
   "cell_type": "markdown",
   "metadata": {},
   "source": [
    "_Answer_:"
   ]
  },
  {
   "cell_type": "markdown",
   "metadata": {},
   "source": [
    "(c) [1 points] $H_{\\text {logit }}(x)=-\\frac{d^{2}}{d x^{2}} \\log \\Lambda(x)=\\Lambda(x)(1-\\Lambda(x))$."
   ]
  },
  {
   "cell_type": "markdown",
   "metadata": {},
   "source": [
    "_Answer_:"
   ]
  },
  {
   "cell_type": "markdown",
   "metadata": {},
   "source": [
    "(d) [1 points] $\\left|H_{\\text {logit }}(x)\\right| \\leq 1$."
   ]
  },
  {
   "cell_type": "markdown",
   "metadata": {},
   "source": [
    "_Answer_:"
   ]
  },
  {
   "cell_type": "markdown",
   "metadata": {},
   "source": [
    "Assume now that you have a random sample $\\{Y_i,X_i^\\prime\\}_{i=1}^n$ taken  from the joint distribution of $(Y,X^\\prime)\\in [1,0]\\times\\mathbb{R}^K$ with $X=[X_1,X_2,\\cdots,X_{K-1},1]^\\prime$ and fit a _logistic regression_ through maximum likelihood methods, i.e., you calculate $\\widehat{\\beta}_{\\text{logit}}$."
   ]
  },
  {
   "cell_type": "markdown",
   "metadata": {},
   "source": [
    "(e) [5 points] Prove mathematically that $S_n(\\beta)\\equiv\\frac{\\partial}{\\partial\\beta}\\mathscr{l}_n=\\textbf{X}^\\prime\\widehat{\\textbf{u}}=\\textbf{0}$, where $\\textbf{0}$ is the $K\\times 1$ vector of zeroes, $\\widehat{\\textbf{u}}=[\\widehat{u}_1,\\widehat{u}_2,\\cdots,\\widehat{u}_{n-1},\\widehat{u}_{n}]^\\prime$, $\\textbf{X}^\\prime=[X_1,X_2,\\cdots,X_{n-1},X_n]$, and $\\widehat{u}_i\\equiv Y_i-\\Lambda(X_i^\\prime\\widehat{\\beta}_{\\text{logit}})$."
   ]
  },
  {
   "cell_type": "markdown",
   "metadata": {},
   "source": [
    "_Answer_:"
   ]
  },
  {
   "cell_type": "markdown",
   "metadata": {
    "vscode": {
     "languageId": "plaintext"
    }
   },
   "source": [
    "(f) [3 points] Then or otherwise show that the proportion of ones in the sample equals the _average_ in-sample fitted probabilities after fitting a _logistic regression_."
   ]
  },
  {
   "cell_type": "markdown",
   "metadata": {},
   "source": [
    "#### Question 2"
   ]
  },
  {
   "cell_type": "markdown",
   "metadata": {},
   "source": [
    "[5 points] Let $\\widehat{\\beta}_{n}=\\left(\\mathbf{X}_{n}^{\\prime} \\mathbf{X}_{n}\\right)^{-1} \\mathbf{X}_{n}^{\\prime} \\mathbf{Y}_{n}$ denote the OLS estimate when $\\mathbf{Y}_{n}$ is $n \\times 1$ and $\\mathbf{X}_{n}$ is $n \\times k$. A new observation $\\left(Y_{n+1}, X_{n+1}\\right)$ becomes available. Prove that the OLS estimate computed using this additional observation is\n",
    "$$\n",
    "\\widehat{\\beta}_{n+1}=\\widehat{\\beta}_{n}+\\frac{1}{1+X_{n+1}^{\\prime}\\left(\\mathbf{X}_{n}^{\\prime} \\mathbf{X}_{n}\\right)^{-1}X_{n+1}}\\left(\\mathbf{X}_{n}^{\\prime}\\mathbf{X}_{n}\\right)^{-1} X_{n+1}\\left(Y_{n+1}-X_{n+1}^{\\prime} \\widehat{\\beta}_{n}\\right)\\text{.}\n",
    "$$"
   ]
  },
  {
   "cell_type": "markdown",
   "metadata": {},
   "source": [
    "_Answer_:"
   ]
  },
  {
   "cell_type": "markdown",
   "metadata": {},
   "source": [
    "#### Question 3"
   ]
  },
  {
   "cell_type": "markdown",
   "metadata": {},
   "source": [
    "[5 points] The observations are $\\{\\left(Y_i, X_{1 i}, X_{2 i}\\right)\\}, i=1, \\ldots, n$. You estimate two least squares regressions.\n",
    "\n",
    "$$\n",
    "\\begin{gathered}\n",
    "Y_i=X_{1 i}^{\\prime} \\tilde{\\beta}_1+\\tilde{e}_i \\text{,}\\\\\n",
    "Y_i=X_{1 i}^{\\prime} \\hat{\\beta}_1+X_{2 i}^{\\prime} \\hat{\\beta}_2+\\hat{e}_i^{\\prime}\\text{,}\n",
    "\\end{gathered}\n",
    "$$\n",
    "\n",
    "and calculate the residual variance estimates\n",
    "\n",
    "$$\n",
    "\\begin{aligned}\n",
    "\\tilde{\\sigma}^2 & =\\frac{1}{n} \\sum_{i=1}^n \\tilde{e}_i^2\\text{,} \\\\\n",
    "\\hat{\\sigma}^2 & =\\frac{1}{n} \\sum_{i=1}^n \\hat{e}_i^2\\text{.}\n",
    "\\end{aligned}\n",
    "$$\n",
    "\n",
    "\n",
    "Show that for any $w \\in(0,1)$, there is a constant $a \\in(0,1)$ such that\n",
    "\n",
    "$$\n",
    "\\frac{1}{n} \\sum_{i=1}^n\\left(w \\hat{e}_i+(1-w) \\tilde{e}_i\\right)^2=(1-a) \\hat{\\sigma}^2+a \\tilde{\\sigma}^2\\text{.}\n",
    "$$\n",
    "\n",
    "\n",
    "Find the constant $a$."
   ]
  },
  {
   "cell_type": "markdown",
   "metadata": {},
   "source": [
    "#### Question 4"
   ]
  },
  {
   "cell_type": "markdown",
   "metadata": {},
   "source": [
    "Take a regression model with i.i.d. observations $\\left\\{(Y_i, X_i): i=1,\\ldots,n\\right\\}$ and scalar $X_i$\n",
    "$$\n",
    "\\begin{aligned}\n",
    "& Y_i=X_i \\beta+e_i, \\\\\n",
    "& \\mathbb{E}\\left(e_i \\mid X_i\\right)=0.\n",
    "\\end{aligned}\n",
    "$$\n",
    "The parameter of interest is $\\theta\\equiv\\beta^2$. Consider the OLS estimates $\\widehat{\\beta}$ and $\\widehat{\\theta}\\equiv\\widehat{\\beta}^2$."
   ]
  },
  {
   "cell_type": "markdown",
   "metadata": {},
   "source": [
    "(a) [4 points] Find $\\mathbb{E}(\\widehat{\\theta} \\mid \\mathbf{X})$ using our knowledge of $\\mathbb{E}(\\widehat{\\beta} \\mid \\mathbf{X})$ and $V_{\\widehat{\\beta}}\\equiv\\operatorname{var}(\\widehat{\\beta} \\mid \\mathbf{X})$. Is $\\widehat{\\theta}$ biased for $\\theta$ ?"
   ]
  },
  {
   "cell_type": "markdown",
   "metadata": {},
   "source": [
    "_Answer_:"
   ]
  },
  {
   "cell_type": "markdown",
   "metadata": {},
   "source": [
    "(b) [1 point] Suggest a (approximate) biased-corrected estimator $\\widehat{\\theta}^*$ using an estimate $\\widehat{V}_{\\widehat{\\beta}}$ for $V_{\\widehat{\\beta}}$."
   ]
  },
  {
   "cell_type": "markdown",
   "metadata": {},
   "source": [
    "_Answer_:"
   ]
  },
  {
   "cell_type": "markdown",
   "metadata": {},
   "source": [
    "(c) [4 points] For $\\widehat{\\theta}^*$ to be _potentially_ unbiased, which estimate of $V_{\\widehat{\\beta}}$ is the most appropriate? Under which conditions is $\\widehat{\\theta}^*$ unbiased? **Note**: You are advised to read Section 4.15 (Chapter 4) of the textbook before answering this question."
   ]
  },
  {
   "cell_type": "markdown",
   "metadata": {},
   "source": [
    "_Answer_:"
   ]
  },
  {
   "cell_type": "markdown",
   "metadata": {},
   "source": [
    "#### Question 5"
   ]
  },
  {
   "cell_type": "markdown",
   "metadata": {},
   "source": [
    "Suppose $\\Pr\\{Y=j|X,\\varepsilon\\}= \\exp (-\\lambda(X,\\varepsilon)) \\lambda(X,\\varepsilon)^{j}/j !$ where $\\lambda(X,\\varepsilon)=\\exp(\\beta_0+\\beta_1 X)$, for $j=1,2,\\ldots$, $\\beta_0=\\gamma_0+\\varepsilon$, with $\\gamma_0$ and $\\beta_1$ unknown scalar parameters, and $\\varepsilon$ is an _unobserved_ random variable with $\\mathbb{E}[\\varepsilon]=0$ and $\\text{var}(\\varepsilon)=\\sigma^2>0$ that is statistically _independent_ of the univariate scalar random variable $X$."
   ]
  },
  {
   "cell_type": "markdown",
   "metadata": {},
   "source": [
    "(a) [3 points] Show that $\\lambda(X,\\varepsilon)=\\exp(\\gamma_0+\\beta_1 X+\\ln\\mathbb{E}[\\exp(\\varepsilon)])\\times W$. Find a mathematical expression for $W$."
   ]
  },
  {
   "cell_type": "markdown",
   "metadata": {},
   "source": [
    "_Answer_:"
   ]
  },
  {
   "cell_type": "markdown",
   "metadata": {},
   "source": [
    "(b) [2 points] Using the mathematical expression for $W$ you found above, show that $\\mathbb{E}(W)=1$."
   ]
  },
  {
   "cell_type": "markdown",
   "metadata": {},
   "source": [
    "_Answer_:"
   ]
  },
  {
   "cell_type": "markdown",
   "metadata": {},
   "source": [
    "(c) [4 points] Using your answers to questions (a) and (b) above, show that $\\mathbb{E}[Y|X]=\\exp(\\gamma_0+\\beta_1 X+\\ln\\mathbb{E}[\\exp(\\varepsilon)])$."
   ]
  },
  {
   "cell_type": "markdown",
   "metadata": {},
   "source": [
    "_Answer_:"
   ]
  },
  {
   "cell_type": "markdown",
   "metadata": {},
   "source": [
    "(d) [4 points] Find a mathematical expression for $\\mathbb{E}[Y^2|X]$."
   ]
  },
  {
   "cell_type": "markdown",
   "metadata": {},
   "source": [
    "_Answer_:"
   ]
  },
  {
   "cell_type": "markdown",
   "metadata": {},
   "source": [
    "(e) [4 points] Find a mathematical expression for $\\mathbb{E}^2[Y|X]$."
   ]
  },
  {
   "cell_type": "markdown",
   "metadata": {},
   "source": [
    "_Answer_:"
   ]
  },
  {
   "cell_type": "markdown",
   "metadata": {},
   "source": [
    "\n",
    "\n",
    "(e) [3 points] Using your answers to questions (d) and (e) above, show that $\\text{var}(Y|X)>\\mathbb{E}[Y|X]$."
   ]
  },
  {
   "cell_type": "markdown",
   "metadata": {},
   "source": [
    "_Answer_:"
   ]
  },
  {
   "cell_type": "markdown",
   "metadata": {},
   "source": [
    "#### Question 6"
   ]
  },
  {
   "cell_type": "markdown",
   "metadata": {},
   "source": [
    "The model is $y=X^{\\prime} \\beta+e$ with $\\mathbb{E}[e \\mid X]=0$. An econometrician is worried about the impact of some unusually large values of the regressors. The model is thus estimated on the subsample for which $\\|X_i\\| \\leq c$ for some fixed $c$. Let $\\tilde{\\beta}$ denote the OLS estimator on this subsample. It equals\n",
    "\n",
    "$$\n",
    "\\tilde{\\beta}=\\left(\\sum_{i=1}^n X_i X_i^{\\prime} \\mathbb{1}\\left\\{\\|X_i\\| \\leq c\\right\\}\\right)^{-1}\\left(\\sum_{i=1}^n X_i Y_i \\mathbb{1}\\left\\{\\|X_i\\| \\leq c\\right\\}\\right)\n",
    "$$\n"
   ]
  },
  {
   "cell_type": "markdown",
   "metadata": {},
   "source": [
    "(a) [2 points] Show that $\\tilde{\\beta} \\underset{p}{\\longrightarrow} \\beta$.\n"
   ]
  },
  {
   "cell_type": "markdown",
   "metadata": {},
   "source": [
    "_Answer_:"
   ]
  },
  {
   "cell_type": "markdown",
   "metadata": {},
   "source": [
    "(b) [2 points] Find the asymptotic distribution of $\\sqrt{n}(\\tilde{\\beta}-\\beta)$."
   ]
  },
  {
   "cell_type": "markdown",
   "metadata": {},
   "source": [
    "_Answer_:"
   ]
  },
  {
   "cell_type": "markdown",
   "metadata": {},
   "source": [
    "#### Question 7"
   ]
  },
  {
   "cell_type": "markdown",
   "metadata": {},
   "source": [
    "7. [5 points] Show that the ridge regression estimator can be computed as least squares applied to an augmented data set. Take the original data $(\\boldsymbol{Y}, \\boldsymbol{X})$. Add $p$ 0's to $\\boldsymbol{Y}$ and $p$ rows of $\\sqrt{\\lambda} \\boldsymbol{I}_p$ to $\\boldsymbol{X}$, apply least squares, and show that this equals $\\hat{\\beta}_{\\text {ridge }}$."
   ]
  },
  {
   "cell_type": "markdown",
   "metadata": {},
   "source": [
    "_Answer_:"
   ]
  },
  {
   "cell_type": "markdown",
   "metadata": {},
   "source": [
    "<center>\n",
    "\n",
    "### Part 2\n",
    "\n",
    "</center>"
   ]
  },
  {
   "cell_type": "code",
   "execution_count": null,
   "metadata": {},
   "outputs": [],
   "source": [
    "%%capture\n",
    "import stata_setup, os\n",
    "if os.name == 'nt':\n",
    "    stata_setup.config('C:/Program Files/Stata17/','mp')\n",
    "else:\n",
    "    stata_setup.config('/usr/local/stata17','mp')"
   ]
  },
  {
   "cell_type": "markdown",
   "metadata": {},
   "source": [
    "#### Question 8"
   ]
  },
  {
   "cell_type": "markdown",
   "metadata": {},
   "source": [
    "In lectures, we look at the _linear_ relationship between the natural logarithm of the [Flesch–Kincaid grade level](https://en.wikipedia.org/wiki/Flesch-Kincaid_readability_tests) (`log_flesch_kincaid_grade_level`) and the proportion of women among the authors (`prop_women`) as described in the [variable description](https://github.com/lfsanche/econ_letters/blob/main/data/vars_description.md) of the data set in [Rodriguez, et. al. (2024, _Economics Letters_)](https://doi.org/10.1016/j.econlet.2024.111541) controlling for other variables. In this question, we are going to look at the _linear_ relationship between the natural logarithm of the [Automated Readability Index](https://en.wikipedia.org/wiki/Automated_readability_index) (`log_automated_readability_index`) and the indicator variable that there are only men among authors (`only_males`), i.e., a **dummy variable**. _All_ your analysis should cluster standard errors at the `cluster` variable level as we did in the lectures. Similarly, the base category remains articles published in the AER, in the field of 'Microeconomics', in 2000, that belongs to the first cluster unless stated otherwise."
   ]
  },
  {
   "cell_type": "markdown",
   "metadata": {},
   "source": [
    "(a) [2 points] Using either Python or Stata, create a [scatter plot](https://en.wikipedia.org/wiki/Scatter_plot) of `log_automated_readability_index` against `log_flesch_kincaid_grade_level` where both axis range from 1.5 to 4.5. Please add a 90\\% degree line to your graph. If you were to repeat the analysis in the lecture notes but using `log_automated_readability_index` instead of the `log_flesch_kincaid_grade_level`, do you expect the results to change? **Note**: Your graph should contain a title, and appropriate axis _labels_."
   ]
  },
  {
   "cell_type": "code",
   "execution_count": null,
   "metadata": {},
   "outputs": [],
   "source": [
    "# Your succint and elegant Python/Stata code goes here"
   ]
  },
  {
   "cell_type": "markdown",
   "metadata": {},
   "source": [
    "Answer:"
   ]
  },
  {
   "cell_type": "markdown",
   "metadata": {},
   "source": [
    "(b) [2 points] Modifying correctly the set code block that uses the [`vl`](https://www.stata.com/manuals/dvl.pdf) Stata commands discussed in lectures, please re-create the `baseline` and `mfe` variable lists taking into account that `only_males` is now replacing `prop_women` and it is a **dummy variable**. Your code should print both variable lists. **Note**: `prop_women` is not longer part of this analysis, and `baseline` should not include the `only_males` variable."
   ]
  },
  {
   "cell_type": "code",
   "execution_count": null,
   "metadata": {},
   "outputs": [],
   "source": [
    "# Your succint and elegant Stata code goes here"
   ]
  },
  {
   "cell_type": "markdown",
   "metadata": {},
   "source": [
    "(c) [2 points] Rename `log_automated_readability_index` as `ARI` and using Stata perform an Ordinary Least Squares regression of `ARI` on `only_males` and variable lists `baseline` and `mfe` making sure that Stata understands that `only_males` is a dummy variable and that standard errors are clustered at the `cluster` level as discussed in the lectures. Do this quietly but save the results in an object called `m0`. After reading the \n",
    ", your code should only print the estimated coefficient (with 3 decimals) as well as the _p_-value (with 4 decimals) for the regressors `log_num_authors`, `log_num_pages`, `both_genders` and `only_males`. Provide a interpretation of the estimated coefficient for `only_males`. Is it significant? if yes, a what level?"
   ]
  },
  {
   "cell_type": "code",
   "execution_count": null,
   "metadata": {},
   "outputs": [],
   "source": [
    "# Your succint and elegant Stata code goes here"
   ]
  },
  {
   "cell_type": "markdown",
   "metadata": {},
   "source": [
    "_Answer_:"
   ]
  },
  {
   "cell_type": "markdown",
   "metadata": {},
   "source": [
    "(d) [2 points] Using the _Specification Curve Analisys_ discussed in the lecture, is your answer to the part (c) above _robust_ to different model specifications? **Note**: This question requires you to alter the `readability_graph_spectuve.yml` file used in the lectures."
   ]
  },
  {
   "cell_type": "code",
   "execution_count": null,
   "metadata": {},
   "outputs": [],
   "source": [
    "# Your succint and elegant Stata code goes here"
   ]
  },
  {
   "cell_type": "markdown",
   "metadata": {},
   "source": [
    "_Answer_:"
   ]
  },
  {
   "cell_type": "markdown",
   "metadata": {},
   "source": [
    "(e) [2 points] Re-estimate the model in (c) using the _Double Selection_, _Partialing Out_, and the _Double Debiased Machine Learning_ (20 folds) estimators using the default plug-in value for the Lasso lambda and a random seed equal to 42. Do this quietly but save the results in objects `m1`, `m2`, and `m3` respectively."
   ]
  },
  {
   "cell_type": "code",
   "execution_count": null,
   "metadata": {},
   "outputs": [],
   "source": [
    "# Your succint and elegant Stata code goes here"
   ]
  },
  {
   "cell_type": "markdown",
   "metadata": {},
   "source": [
    "(f) [2 points] Using the [`estimates table`](https://www.stata.com/manuals/restimatestable.pdf) Stata command, please proceed to print all estimated coefficients and _p_-values for models `m0`, `m1`, `m2`, and `m3` as columns for for the regressors `log_num_authors`, `log_num_pages`, `both_genders` and `only_males`. Are your results similar accross specifications or not?"
   ]
  },
  {
   "cell_type": "code",
   "execution_count": null,
   "metadata": {},
   "outputs": [],
   "source": [
    "# Your succint and elegant Stata code goes here"
   ]
  },
  {
   "cell_type": "markdown",
   "metadata": {},
   "source": [
    "_Answer_:"
   ]
  },
  {
   "cell_type": "markdown",
   "metadata": {},
   "source": [
    "#### Question 9"
   ]
  },
  {
   "cell_type": "markdown",
   "metadata": {},
   "source": [
    "We now turn our attention to a logistic analysis of the relationship between the readability of articles' abstracts in our sample and the `only_males` **dummy variable**. _All_ your analysis should cluster standard errors at the `cluster` variable level as we did in the lectures. Similarly, the base category remains articles published in the AER, in the field of 'Microeconomics', in 2000, that belongs to the first cluster."
   ]
  },
  {
   "cell_type": "markdown",
   "metadata": {},
   "source": [
    "(a) [1 point] Create a new variable called `ARI_01` that equals one if `automated_readability_index` is greater or equal to its 95\\% empirical percentile in the sample. Do this quietly."
   ]
  },
  {
   "cell_type": "code",
   "execution_count": null,
   "metadata": {},
   "outputs": [],
   "source": [
    "# Your succint and elegant Stata code goes here"
   ]
  },
  {
   "cell_type": "markdown",
   "metadata": {},
   "source": [
    "(b) [2 points] Using the variable of **dummy variable** of interest `only_males` and variable lists `baseline` and `mfe` you created in question 8(b) above, proceed to run a logistic regression of `ARI_01` on `only_males`, `baseline`, and `mfe` clustering standard errors at the `cluster` level. Do this quietly, but then print the estimated coefficients for `log_num_authors`, `log_num_pages`, `both_genders`, and `only_males` with 3 decimals and stars representing their significance at the 10\\%, 5\\%, and 1\\% as discussed in the lectures using the [`estimates table`](https://www.stata.com/manuals/restimatestable.pdf) Stata command."
   ]
  },
  {
   "cell_type": "code",
   "execution_count": null,
   "metadata": {},
   "outputs": [],
   "source": [
    "# Your succint and elegant Stata code goes here"
   ]
  },
  {
   "cell_type": "markdown",
   "metadata": {},
   "source": [
    "(c) [2 points] Verify _numerically_ the assertion you mathematically proved in question 1(f) above."
   ]
  },
  {
   "cell_type": "code",
   "execution_count": null,
   "metadata": {},
   "outputs": [],
   "source": [
    "# Your succint and elegant Stata or Python code goes here"
   ]
  },
  {
   "cell_type": "markdown",
   "metadata": {},
   "source": [
    "(d) [3 points] Using the scalars stored in the `r()` output after issuing the [`estat class`](https://www.stata.com/manuals/restatclassification.pdf) Stata command, proceed to verify _numerically_ the equality in exercise (1) in the *Binary Response* section of the OneNote course notes. **Note**: Although you can do this using _solely_ Stata (complicated), you are encouraged to use the [`get_return()`](https://www.stata.com/python/pystata18/stata.html#pystata.stata.get_return) of the [`Pystata`](https://www.stata.com/python/pystata18/stata.html) Python module and use Python instead."
   ]
  },
  {
   "cell_type": "code",
   "execution_count": null,
   "metadata": {},
   "outputs": [],
   "source": [
    "# Your succint and elegant Stata or Python code goes here"
   ]
  },
  {
   "cell_type": "markdown",
   "metadata": {},
   "source": [
    "(e) [2 points] Calculate the _Average_ Marginal Effect of the **dummy variable** of interest `only_males` on the probability that the `automated_readability_index` is greater or equal to its 95\\% empirical percentile in the sample. Provide an meaningful interpretation of this number."
   ]
  },
  {
   "cell_type": "code",
   "execution_count": null,
   "metadata": {},
   "outputs": [],
   "source": [
    "# Your succint and elegant Stata or Python code goes here"
   ]
  },
  {
   "cell_type": "markdown",
   "metadata": {},
   "source": [
    "_Answer_:"
   ]
  },
  {
   "cell_type": "markdown",
   "metadata": {},
   "source": [
    "(f) [3 points] Calculate the Marginal Effect of the **dummy variable** of interest `only_males` when `both_genders`=0, `log_num_authors`=0.60205999132, and `log_num_pages` take on values 1, 1.5, 2, 2.5, 3, 3.5, 4, and 4.5. Do this quietly, but then provide a 2D plot of these effects against these 8 values for `log_num_pages` along with their 95\\% confidence interval. **Note**: It is strongly recommended you use Stata built-in functions for this task."
   ]
  },
  {
   "cell_type": "code",
   "execution_count": null,
   "metadata": {},
   "outputs": [],
   "source": [
    "# Your succint and elegant Stata code goes here"
   ]
  },
  {
   "cell_type": "markdown",
   "metadata": {},
   "source": [
    "#### Question 10"
   ]
  },
  {
   "cell_type": "markdown",
   "metadata": {},
   "source": [
    "In this question, we revisit the _Poisson_ analysis of the number of sentences in excess of 3 but with respect to our new **dummy variable** of interest, `only_males`. However, we are going to change our base category to articles published in the QJE, in the field of \"Mathematical and Quantitative Methods: General\" (JEL C), published in the year 2010, _but_ still belonging to the first cluster, for which JEL codes have been imputed"
   ]
  },
  {
   "cell_type": "markdown",
   "metadata": {},
   "source": [
    "(a) [3 points] Re-create the outcome variable `excess_sentences` as done in the lectures. After reading the relevant [variable description](https://github.com/lfsanche/econ_letters/blob/main/data/vars_description.md) information again, _recreate_ the `baseline` and `mfe` variable lists (that you already know how to create using the [`vl`](https://www.stata.com/manuals/dvl.pdf) Stata commands) taking into account that `only_males` is now replacing `prop_women` and it is a **dummy variable**. Your code should reflect the fact that the base category has changed."
   ]
  },
  {
   "cell_type": "code",
   "execution_count": null,
   "metadata": {},
   "outputs": [],
   "source": [
    "# Your succint and elegant Stata code goes here"
   ]
  },
  {
   "cell_type": "markdown",
   "metadata": {},
   "source": [
    "(b) [3 points] Using the `ppmlhdfe` user-written Stata command quietly proceed to estimate a high-dimensional fixed effect Poisson regression of `excess_sentences` on the **dummy variable** of interest, `only_males`, and the `baseline` regressors controlling for the `mfe` fixed effects. Then print the estimated coefficients for `log_num_authors`, `log_num_pages`, `both_genders`, and `only_males` with 4 decimals and stars representing their significance at the 10\\%, 5\\%, and 1\\% as discussed in the lectures using the [`estimates table`](https://www.stata.com/manuals/restimatestable.pdf) Stata command."
   ]
  },
  {
   "cell_type": "code",
   "execution_count": null,
   "metadata": {},
   "outputs": [],
   "source": [
    "# Your succint and elegant Stata code goes here"
   ]
  },
  {
   "cell_type": "markdown",
   "metadata": {},
   "source": [
    "(c) [2 points] What is the estimated percentage by which the number of sentences in excess of 3 for an article exclusively written by men exceeds the number of sentences in excess of 3 for an article no exclusively written by men ceteris paribus?"
   ]
  },
  {
   "cell_type": "code",
   "execution_count": null,
   "metadata": {},
   "outputs": [],
   "source": [
    "# Your succint and elegant Stata code goes here"
   ]
  },
  {
   "cell_type": "markdown",
   "metadata": {},
   "source": [
    "_Answer_:"
   ]
  },
  {
   "cell_type": "markdown",
   "metadata": {},
   "source": [
    "(d) [2 points] What is the _Average_ Marginal Effect of the **dummy_variable** of interest, `only_males`, ceteris paribus? Please provide an interpretation."
   ]
  },
  {
   "cell_type": "code",
   "execution_count": null,
   "metadata": {},
   "outputs": [],
   "source": [
    "# Your succint and elegant Stata code goes here"
   ]
  },
  {
   "cell_type": "markdown",
   "metadata": {},
   "source": [
    "_Answer_:"
   ]
  },
  {
   "cell_type": "markdown",
   "metadata": {},
   "source": [
    "(e) [5 points] Create a 3D graph of $\\widehat{\\delta}_{\\text{only males}}$ as a function of log(number of pages) and log(number of authors) for an article published in the QJE, year 2010, with JEL C, that belongs to cluster 1, JEL codes that have **not** been imputed, written by _single_-gender authors. The log(number of pages) should take on values 1, 1.5, 2,..., 3.5, 4, and log(number of authors) should take on values 0, 0.25,..., 1.75, 2."
   ]
  },
  {
   "cell_type": "code",
   "execution_count": null,
   "metadata": {},
   "outputs": [],
   "source": [
    "# Your succint and elegant Python code goes here"
   ]
  }
 ],
 "metadata": {
  "kernelspec": {
   "display_name": "Python 3 (ipykernel)",
   "language": "python",
   "name": "python3"
  },
  "language_info": {
   "codemirror_mode": {
    "name": "ipython",
    "version": 3
   },
   "file_extension": ".py",
   "mimetype": "text/x-python",
   "name": "python",
   "nbconvert_exporter": "python",
   "pygments_lexer": "ipython3",
   "version": "3.11.5"
  }
 },
 "nbformat": 4,
 "nbformat_minor": 4
}
